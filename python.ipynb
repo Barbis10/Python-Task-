{
 "cells": [
  {
   "cell_type": "markdown",
   "id": "c2705d5c-691a-407b-b0b6-42072cbcc0cb",
   "metadata": {},
   "source": [
    "Simple Calculator"
   ]
  },
  {
   "cell_type": "code",
   "execution_count": 4,
   "id": "63d44336-46a4-4fbe-aea4-cb3738937318",
   "metadata": {},
   "outputs": [
    {
     "name": "stdin",
     "output_type": "stream",
     "text": [
      "Entetr an operator (+ - * /):  /\n",
      "Enter the 1st number:  1560\n",
      "Enter the 2nd number:  20\n"
     ]
    },
    {
     "name": "stdout",
     "output_type": "stream",
     "text": [
      "78.0\n"
     ]
    }
   ],
   "source": [
    "operator = input(\"Entetr an operator (+ - * /): \")\n",
    "num1  = float(input(\"Enter the 1st number: \"))\n",
    "num2  = float(input(\"Enter the 2nd number: \"))\n",
    "if operator  == \"+\":\n",
    "    result  = num1 + num2\n",
    "    print(round(result,3))\n",
    "elif operator  == \"-\":\n",
    "    result  = num1 - num2 \n",
    "    print(round(result,3))\n",
    "elif operator  == \"*\":\n",
    "    result  = num1 * num2\n",
    "    print(round(result,3))\n",
    "elif operator  == \"/\":\n",
    "    result  = num1 / num2\n",
    "    print(round(result,3))\n",
    "else:\n",
    "    print(f\"{operator} is not a valid operator\")\n",
    "    "
   ]
  },
  {
   "cell_type": "markdown",
   "id": "627b9ef2-7dbf-4cb3-b67d-f8c822f1a05e",
   "metadata": {},
   "source": [
    "## Temperature Converter "
   ]
  },
  {
   "cell_type": "code",
   "execution_count": 2,
   "id": "fc086b87-02be-4224-920e-3595409c88d0",
   "metadata": {},
   "outputs": [
    {
     "name": "stdin",
     "output_type": "stream",
     "text": [
      "Enter the temperature:  33\n",
      "Convert to Celsius or Fahrenheit (C/F):  F\n"
     ]
    },
    {
     "name": "stdout",
     "output_type": "stream",
     "text": [
      "33.0°C is: 91.40°C\n"
     ]
    }
   ],
   "source": [
    "temp = float(input(\"Enter the temperature: \"))\n",
    "conversion = input(\"Convert to Celsius or Fahrenheit (C/F): \").upper()\n",
    "if conversion == \"C\":\n",
    "    celsius = (temp - 32) * 5/9\n",
    "    print(f\"{temp}°F is: {celsius:.2f}°C\")\n",
    "elif conversion == \"F\":\n",
    "    Fahrenheit = (temp * 9/5) + 32\n",
    "    print(f\"{temp}°C is: {Fahrenheit:.2f}°C\")\n",
    "else:\n",
    "    print(\"invalid option! Please enter C,F:\")"
   ]
  },
  {
   "cell_type": "markdown",
   "id": "8f91e320-b11b-4453-8082-2ea26657e88c",
   "metadata": {},
   "source": [
    "## Odd or Even checker"
   ]
  },
  {
   "cell_type": "code",
   "execution_count": 5,
   "id": "ec687eee-057f-48ce-8fc9-fa7bf2c0812a",
   "metadata": {},
   "outputs": [
    {
     "name": "stdin",
     "output_type": "stream",
     "text": [
      "Enter a number:  37\n"
     ]
    },
    {
     "name": "stdout",
     "output_type": "stream",
     "text": [
      "37 ia an odd number.\n"
     ]
    }
   ],
   "source": [
    "number =int(input(\"Enter a number: \"))\n",
    "if number % 2 == 0:\n",
    "    print(f\"{number} is an even number.\")\n",
    "else:\n",
    "    print(f\"{number} ia an odd number.\")"
   ]
  },
  {
   "cell_type": "code",
   "execution_count": null,
   "id": "f9de64ce-3475-45dc-a442-e68045545a32",
   "metadata": {},
   "outputs": [],
   "source": []
  }
 ],
 "metadata": {
  "kernelspec": {
   "display_name": "Python 3 (ipykernel)",
   "language": "python",
   "name": "python3"
  },
  "language_info": {
   "codemirror_mode": {
    "name": "ipython",
    "version": 3
   },
   "file_extension": ".py",
   "mimetype": "text/x-python",
   "name": "python",
   "nbconvert_exporter": "python",
   "pygments_lexer": "ipython3",
   "version": "3.12.4"
  }
 },
 "nbformat": 4,
 "nbformat_minor": 5
}
